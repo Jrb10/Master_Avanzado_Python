{
 "cells": [
  {
   "cell_type": "code",
   "execution_count": null,
   "id": "135cf103",
   "metadata": {},
   "outputs": [],
   "source": [
    "# Instalacion jupyter en Entorno\n",
    "- python 3.8.5\n",
    "- pip install notebook\n",
    "- jupyter notebook\n",
    "\n",
    "# Instalaciones de librerias:\n",
    "- pip install pandas\n",
    "- pip install matplotlib\n",
    "- pip install seaborn\n",
    "- pip install plotnine\n",
    "- pip install bokeh"
   ]
  },
  {
   "cell_type": "code",
   "execution_count": null,
   "id": "08b774ee",
   "metadata": {},
   "outputs": [],
   "source": [
    "import pandas as pd\n",
    "import matplotlib.pyplot as plt\n",
    "import numpy as np\n",
    "import seaborn as sns\n",
    "from plotnine import *"
   ]
  },
  {
   "cell_type": "markdown",
   "id": "5f78b5d3",
   "metadata": {},
   "source": [
    "# 2. Obtencion de informacion concreta en DataFrames"
   ]
  },
  {
   "cell_type": "markdown",
   "id": "334ab2e1",
   "metadata": {},
   "source": [
    "### PRINCIPALES DEPENDENCIAS"
   ]
  },
  {
   "cell_type": "code",
   "execution_count": null,
   "id": "fe2dc27e",
   "metadata": {},
   "outputs": [],
   "source": [
    "import pandas as pd"
   ]
  },
  {
   "cell_type": "markdown",
   "id": "ae25a03f",
   "metadata": {},
   "source": [
    "### Crear un DataFrame para el ejemplo"
   ]
  },
  {
   "cell_type": "code",
   "execution_count": null,
   "id": "f09ffb5b",
   "metadata": {
    "scrolled": true
   },
   "outputs": [],
   "source": [
    "df= pd.DataFrame({\"X\":[10,20,30,40,50], \"y\":[1,1,0,1,0]})\n",
    "df.head()"
   ]
  },
  {
   "cell_type": "markdown",
   "id": "2f84c008",
   "metadata": {},
   "source": [
    "### DataFrame de filas que y=1"
   ]
  },
  {
   "cell_type": "code",
   "execution_count": null,
   "id": "c12ca0be",
   "metadata": {},
   "outputs": [],
   "source": [
    "# crear un df con el formato del df que teniamos(original)\n",
    "# en aquellos casos en que la columna \"y\" del df es = 1 \n",
    "# se lo asignmaos a la variable : df_uno\n",
    "df_uno=df[df[\"y\"]==1]\n",
    "df_uno"
   ]
  },
  {
   "cell_type": "code",
   "execution_count": null,
   "id": "2141923e",
   "metadata": {},
   "outputs": [],
   "source": [
    "# NombreDataFrame.NombreColumna (otra posible forma de llamar a una columna)\n",
    "# la hemos llamado _b para guardarlo con otro nombre de variable\n",
    "# es preferible, en este caso, no obstante, la anterior elecion\n",
    "df_uno_b=df[df.y==1]\n",
    "df_uno_b"
   ]
  },
  {
   "cell_type": "markdown",
   "id": "7cfdcf98",
   "metadata": {},
   "source": [
    "### DataFrame de filas que y=0"
   ]
  },
  {
   "cell_type": "code",
   "execution_count": null,
   "id": "5a6cf825",
   "metadata": {},
   "outputs": [],
   "source": [
    "# crear un df con el formato del df que teniamos\n",
    "# en aquellos casos en que la columna \"y\" del df es = 0\n",
    "# se lo asignmaos a la variable : df_cero\n",
    "df_cero=df[df[\"y\"]==0]\n",
    "df_cero"
   ]
  },
  {
   "cell_type": "code",
   "execution_count": null,
   "id": "4041da30",
   "metadata": {},
   "outputs": [],
   "source": [
    "# NombreDataFrame.NombreColumna (otra posible forma de llamar a una columna)\n",
    "# la hemos llamado _b para guardarlo con otro nombre de variable\n",
    "# es preferible, en este caso, no obstante, la anterior elecion\n",
    "df_cero_b=df[df.y==0]\n",
    "df_cero_b"
   ]
  },
  {
   "cell_type": "markdown",
   "id": "57102e28",
   "metadata": {},
   "source": [
    "# 3. Graficos rapidos con Pandas para DataFrames"
   ]
  },
  {
   "cell_type": "markdown",
   "id": "611ea497",
   "metadata": {},
   "source": [
    "### PRINCIPALES DEPENDENCIAS"
   ]
  },
  {
   "cell_type": "code",
   "execution_count": null,
   "id": "d094aad7",
   "metadata": {},
   "outputs": [],
   "source": [
    "import pandas as pd\n",
    "import matplotlib.pyplot as plt"
   ]
  },
  {
   "cell_type": "markdown",
   "id": "fd9c7d61",
   "metadata": {},
   "source": [
    "### Creo un DataFrame para el ejemplo"
   ]
  },
  {
   "cell_type": "code",
   "execution_count": null,
   "id": "c8039009",
   "metadata": {},
   "outputs": [],
   "source": [
    "df= pd.DataFrame({\"X\":[10,20,30,40,50], \"y\":[15,5,10,8,6]})\n",
    "df.head()"
   ]
  },
  {
   "cell_type": "markdown",
   "id": "3955ec82",
   "metadata": {},
   "source": [
    "### Graficos rapidos con pandas"
   ]
  },
  {
   "cell_type": "markdown",
   "id": "5fe9a63f",
   "metadata": {},
   "source": [
    "### .plot()"
   ]
  },
  {
   "cell_type": "code",
   "execution_count": null,
   "id": "a0d55c66",
   "metadata": {},
   "outputs": [],
   "source": [
    "df.plot()"
   ]
  },
  {
   "cell_type": "markdown",
   "id": "5b169397",
   "metadata": {},
   "source": [
    "### .plot() para una columna"
   ]
  },
  {
   "cell_type": "code",
   "execution_count": null,
   "id": "647d1ca9",
   "metadata": {},
   "outputs": [],
   "source": [
    "df.y.plot()"
   ]
  },
  {
   "cell_type": "markdown",
   "id": "dc9fed6b",
   "metadata": {},
   "source": [
    "### .plot() y plt.show()"
   ]
  },
  {
   "cell_type": "code",
   "execution_count": null,
   "id": "b154eb27",
   "metadata": {},
   "outputs": [],
   "source": [
    "df.plot()\n",
    "plt.show()"
   ]
  },
  {
   "cell_type": "markdown",
   "id": "21e8572b",
   "metadata": {},
   "source": [
    "### Graficos de barras"
   ]
  },
  {
   "cell_type": "code",
   "execution_count": null,
   "id": "56f5b1aa",
   "metadata": {},
   "outputs": [],
   "source": [
    "df.plot(kind=\"bar\")\n",
    "plt.show()"
   ]
  },
  {
   "cell_type": "markdown",
   "id": "f6196e71",
   "metadata": {},
   "source": [
    "### Stacked=apilado"
   ]
  },
  {
   "cell_type": "code",
   "execution_count": null,
   "id": "5e1885c1",
   "metadata": {},
   "outputs": [],
   "source": [
    "df.plot(kind=\"bar\", stacked=True)\n",
    "plt.show()"
   ]
  },
  {
   "cell_type": "markdown",
   "id": "a1385f61",
   "metadata": {},
   "source": [
    "### buscando mas parametros de df.plot"
   ]
  },
  {
   "cell_type": "code",
   "execution_count": null,
   "id": "9cd67321",
   "metadata": {},
   "outputs": [],
   "source": [
    "df.plot?"
   ]
  },
  {
   "cell_type": "markdown",
   "id": "e1771e53",
   "metadata": {},
   "source": [
    "### Poniendo titulo y rejilla para verlo mejor"
   ]
  },
  {
   "cell_type": "code",
   "execution_count": null,
   "id": "cfa6f8f8",
   "metadata": {},
   "outputs": [],
   "source": [
    "df.plot(kind=\"bar\", stacked=True,\n",
    "       grid=True, title=\"Grafica ejemplo con pandas\")\n",
    "plt.show()"
   ]
  },
  {
   "cell_type": "markdown",
   "id": "411f90b3",
   "metadata": {},
   "source": [
    "### value_counts()"
   ]
  },
  {
   "cell_type": "code",
   "execution_count": null,
   "id": "5baef18c",
   "metadata": {},
   "outputs": [],
   "source": [
    "df.y.value_counts()"
   ]
  },
  {
   "cell_type": "markdown",
   "id": "08964e7d",
   "metadata": {},
   "source": [
    "### value_counts() con  .plot y obtenemos grafica"
   ]
  },
  {
   "cell_type": "code",
   "execution_count": null,
   "id": "10405cf6",
   "metadata": {},
   "outputs": [],
   "source": [
    "df.y.value_counts().plot(kind=\"bar\")"
   ]
  },
  {
   "cell_type": "markdown",
   "id": "5ceb8b65",
   "metadata": {},
   "source": [
    "### Con otro df para ver el value_counts y plot"
   ]
  },
  {
   "cell_type": "code",
   "execution_count": null,
   "id": "2898739f",
   "metadata": {},
   "outputs": [],
   "source": [
    "df_2=pd.DataFrame({\"X\":[10,20,30,40,50,60,70,80], \n",
    "                   \"y\":[10,20,10,40,20,30,20,10]})\n",
    "df_2"
   ]
  },
  {
   "cell_type": "code",
   "execution_count": null,
   "id": "f0ee4f9c",
   "metadata": {},
   "outputs": [],
   "source": [
    "df_2.y.value_counts()"
   ]
  },
  {
   "cell_type": "code",
   "execution_count": null,
   "id": "141dce65",
   "metadata": {
    "scrolled": true
   },
   "outputs": [],
   "source": [
    "df_2.y.value_counts().plot(kind=\"bar\")\n",
    "plt.show()"
   ]
  },
  {
   "cell_type": "markdown",
   "id": "fe8241b6",
   "metadata": {},
   "source": [
    "### Con colores diferentes"
   ]
  },
  {
   "cell_type": "code",
   "execution_count": null,
   "id": "7e827366",
   "metadata": {
    "scrolled": true
   },
   "outputs": [],
   "source": [
    "df_2.y.value_counts().plot(kind=\"bar\",\n",
    "                          color=[\"green\",\"orange\"])\n",
    "plt.show()"
   ]
  },
  {
   "cell_type": "markdown",
   "id": "6b7efaa0",
   "metadata": {},
   "source": [
    "### Con todos los colores diferentes"
   ]
  },
  {
   "cell_type": "code",
   "execution_count": null,
   "id": "da068321",
   "metadata": {},
   "outputs": [],
   "source": [
    "df_2.y.value_counts().plot(kind=\"bar\",\n",
    "                          color=[\"blue\",\"green\",\"red\",\"orange\"])\n",
    "plt.show()"
   ]
  },
  {
   "cell_type": "markdown",
   "id": "c9b1b25a",
   "metadata": {},
   "source": [
    "# 4. Graficas del Iris Dataset - Para el petalo"
   ]
  },
  {
   "cell_type": "markdown",
   "id": "df446a08",
   "metadata": {},
   "source": [
    "### PRINCIPALES DEPENDENCIAS"
   ]
  },
  {
   "cell_type": "code",
   "execution_count": null,
   "id": "eff88094",
   "metadata": {},
   "outputs": [],
   "source": [
    "import pandas as pd\n",
    "import matplotlib.pyplot as plt\n",
    "import numpy as np\n",
    "import seaborn as sns"
   ]
  },
  {
   "cell_type": "markdown",
   "id": "60a4340e",
   "metadata": {},
   "source": [
    "### DATAFRAME IRIS"
   ]
  },
  {
   "cell_type": "code",
   "execution_count": null,
   "id": "1ada5196",
   "metadata": {},
   "outputs": [],
   "source": [
    "df=pd.read_csv(\"Iris.csv\")\n",
    "df.head()"
   ]
  },
  {
   "cell_type": "markdown",
   "id": "a92961a9",
   "metadata": {},
   "source": [
    "### GRAFICO CON PANDAS-PETALO"
   ]
  },
  {
   "cell_type": "code",
   "execution_count": null,
   "id": "352aee5b",
   "metadata": {},
   "outputs": [],
   "source": [
    "figura=df[df.Species==\"Iris-setosa\"].plot(kind=\"scatter\",\n",
    "                                         x=\"PetalLengthCm\", y=\"PetalWidthCm\",\n",
    "                                         color=\"blue\", label=\"Setosa\",\n",
    "                                         figsize=(6.4,6.4))\n",
    "df[df.Species==\"Iris-versicolor\"].plot(kind=\"scatter\",\n",
    "                                         x=\"PetalLengthCm\", y=\"PetalWidthCm\",\n",
    "                                         color=\"orange\", label=\"Versicolor\",\n",
    "                                         ax=figura)\n",
    "df[df.Species==\"Iris-virginica\"].plot(kind=\"scatter\",\n",
    "                                         x=\"PetalLengthCm\", y=\"PetalWidthCm\",\n",
    "                                         color=\"green\", label=\"Virginica\",\n",
    "                                         ax=figura)\n",
    "figura.set_xlabel(\"Longitud\")\n",
    "figura.set_ylabel(\"Anchura\")\n",
    "figura.set_title(\"Grafica para el petalo- con Pandas\")\n",
    "plt.show()"
   ]
  },
  {
   "cell_type": "markdown",
   "id": "214327d0",
   "metadata": {},
   "source": [
    "### GRAFICO CON MATPLOTLIB- PETALO"
   ]
  },
  {
   "cell_type": "code",
   "execution_count": null,
   "id": "9653c679",
   "metadata": {
    "scrolled": true
   },
   "outputs": [],
   "source": [
    "df_setosa=df[df[\"Species\"]==\"Iris-setosa\"]\n",
    "df_versicolor=df[df[\"Species\"]==\"Iris-versicolor\"]\n",
    "df_virginica=df[df[\"Species\"]==\"Iris-virginica\"]\n",
    "\n",
    "fig=plt.figure(figsize=(6.4,6.4))\n",
    "ax1=fig.add_subplot(1,1,1)\n",
    "ax1.scatter(df_setosa[\"PetalLengthCm\"],  df_setosa[\"PetalWidthCm\"], s=10, c='blue', label='Setosa')\n",
    "ax1.scatter(df_versicolor[\"PetalLengthCm\"], df_versicolor[\"PetalWidthCm\"], s=10, c='orange', label='Versicolor')\n",
    "ax1.scatter(df_virginica[\"PetalLengthCm\"], df_virginica[\"PetalWidthCm\"], s=10, c='green', label='Virginica')\n",
    "\n",
    "plt.legend(loc=\"upper left\")\n",
    "plt.title(\"GRAFICA PETALO MATPLOTLIB\")\n",
    "plt.xlabel(\"Longitud\")\n",
    "plt.ylabel(\"Anchura\")\n",
    "plt.show()"
   ]
  },
  {
   "cell_type": "markdown",
   "id": "cf32d20d",
   "metadata": {},
   "source": [
    "### GRAFICO CON SEABORN- PETALO"
   ]
  },
  {
   "cell_type": "code",
   "execution_count": null,
   "id": "397ec14e",
   "metadata": {
    "scrolled": true
   },
   "outputs": [],
   "source": [
    "sns.FacetGrid(df, hue=\"Species\", height=6.4) \\\n",
    "    .map(plt.scatter, \"PetalLengthCm\", \"PetalWidthCm\") \\\n",
    "    .add_legend() \\\n",
    "    #.set(title=\"GRAFICA PETALO SEABORN\")\n",
    "plt.title(\"GRAFICA PETALO SEABORN\")\n",
    "plt.show()"
   ]
  },
  {
   "cell_type": "markdown",
   "id": "2bc9916c",
   "metadata": {},
   "source": [
    "# 4. Graficas del Iris Dataset - Para el sepalo"
   ]
  },
  {
   "cell_type": "markdown",
   "id": "bdcf3aee",
   "metadata": {},
   "source": [
    "### GRAFICO CON PANDAS- SEPALO"
   ]
  },
  {
   "cell_type": "code",
   "execution_count": null,
   "id": "50c288ec",
   "metadata": {
    "scrolled": false
   },
   "outputs": [],
   "source": [
    "figura=df[df.Species==\"Iris-setosa\"].plot(kind=\"scatter\",\n",
    "                                         x=\"SepalLengthCm\", y=\"SepalWidthCm\",\n",
    "                                         color=\"blue\", label=\"Setosa\",\n",
    "                                         figsize=(6.4,6.4))\n",
    "df[df.Species==\"Iris-versicolor\"].plot(kind=\"scatter\",\n",
    "                                         x=\"SepalLengthCm\", y=\"SepalWidthCm\",\n",
    "                                         color=\"orange\", label=\"Versicolor\",\n",
    "                                         ax=figura)\n",
    "df[df.Species==\"Iris-virginica\"].plot(kind=\"scatter\",\n",
    "                                         x=\"SepalLengthCm\", y=\"SepalWidthCm\",\n",
    "                                         color=\"green\", label=\"Virginica\",\n",
    "                                         ax=figura)\n",
    "figura.set_xlabel(\"Longitud\")\n",
    "figura.set_ylabel(\"Anchura\")\n",
    "figura.set_title(\"Grafica para el sepalo- con Pandas\")\n",
    "plt.show()"
   ]
  },
  {
   "cell_type": "markdown",
   "id": "a3a26ccb",
   "metadata": {},
   "source": [
    "### GRAFICO CON MATPLOTLIB- SEPALO"
   ]
  },
  {
   "cell_type": "code",
   "execution_count": null,
   "id": "3451ed7b",
   "metadata": {
    "scrolled": true
   },
   "outputs": [],
   "source": [
    "df_setosa=df[df[\"Species\"]==\"Iris-setosa\"]\n",
    "df_versicolor=df[df[\"Species\"]==\"Iris-versicolor\"]\n",
    "df_virginica=df[df[\"Species\"]==\"Iris-virginica\"]\n",
    "\n",
    "fig=plt.figure(figsize=(6.4,6.4))\n",
    "ax1=fig.add_subplot(1,1,1)\n",
    "ax1.scatter(df_setosa[\"SepalLengthCm\"],  df_setosa[\"SepalWidthCm\"], s=10, c='blue', label='Setosa')\n",
    "ax1.scatter(df_versicolor[\"SepalLengthCm\"], df_versicolor[\"SepalWidthCm\"], s=10, c='orange', label='Versicolor')\n",
    "ax1.scatter(df_virginica[\"SepalLengthCm\"], df_virginica[\"SepalWidthCm\"], s=10, c='green', label='Virginica')\n",
    "\n",
    "plt.legend(loc=\"upper left\")\n",
    "plt.title(\"GRAFICA SEPALO MATPLOTLIB\")\n",
    "plt.xlabel(\"Longitud\")\n",
    "plt.ylabel(\"Anchura\")\n",
    "plt.show()"
   ]
  },
  {
   "cell_type": "markdown",
   "id": "5f59a49d",
   "metadata": {},
   "source": [
    "### GRAFICO CON SEABORN- SEPALO"
   ]
  },
  {
   "cell_type": "code",
   "execution_count": null,
   "id": "cf50c196",
   "metadata": {},
   "outputs": [],
   "source": [
    "sns.FacetGrid(df, hue=\"Species\", height=6.4) \\\n",
    "    .map(plt.scatter, \"SepalLengthCm\", \"SepalWidthCm\") \\\n",
    "    .add_legend() \\\n",
    "    .set(title=\"GRAFICA SEPALO SEABORN\")\n",
    "#plt.title(\"GRAFICA PETALO SEABORN\")\n",
    "plt.show()"
   ]
  },
  {
   "cell_type": "markdown",
   "id": "8edc4f45",
   "metadata": {},
   "source": [
    "\n"
   ]
  },
  {
   "cell_type": "markdown",
   "id": "d5da5aff",
   "metadata": {},
   "source": [
    "# GRAFICA IRIS DATASET CON PLOTNINE"
   ]
  },
  {
   "cell_type": "code",
   "execution_count": null,
   "id": "206765ae",
   "metadata": {},
   "outputs": [],
   "source": [
    "import pandas as pd\n",
    "df=pd.read_csv(\"Iris.csv\")\n",
    "df.head()"
   ]
  },
  {
   "cell_type": "markdown",
   "id": "625203dd",
   "metadata": {},
   "source": [
    "### PLOTNINE- SEPALO"
   ]
  },
  {
   "cell_type": "code",
   "execution_count": null,
   "id": "303bb05f",
   "metadata": {},
   "outputs": [],
   "source": [
    "from plotnine import ggplot, geom_point, aes, ggtitle, xlab ,ylab, theme_dark\n",
    "\n",
    "(\n",
    "    ggplot(df)\n",
    "    + aes(x=\"SepalLengthCm\", y=\"SepalWidthCm\",color='Species')\n",
    "    + geom_point()\n",
    "    #+ geom_line()\n",
    "    #+ geom_smooth()\n",
    "    + ggtitle(\"GRAFICO SEPALO CON PLOTNINE\")\n",
    "    + xlab(\"SepalLength\")\n",
    "    + ylab(\"SepalWidth\")\n",
    "    + theme_dark()\n",
    ")"
   ]
  },
  {
   "cell_type": "markdown",
   "id": "45160f0a",
   "metadata": {},
   "source": [
    "### PLOTNINE- PETALO"
   ]
  },
  {
   "cell_type": "code",
   "execution_count": null,
   "id": "a81d742d",
   "metadata": {},
   "outputs": [],
   "source": [
    "from plotnine import ggplot, geom_point, aes, ggtitle, xlab ,ylab\n",
    "\n",
    "(\n",
    "    ggplot(df)\n",
    "    + aes(x=\"PetalLengthCm\", y=\"PetalWidthCm\",color='Species')\n",
    "    + geom_point()\n",
    "    + ggtitle(\"GRAFICO PETALO CON PLOTNINE\")\n",
    "    + xlab(\"PetalLength\")\n",
    "    + ylab(\"PetalWidth\")\n",
    ")"
   ]
  },
  {
   "cell_type": "markdown",
   "id": "ecb4e67f",
   "metadata": {},
   "source": [
    "\n"
   ]
  },
  {
   "cell_type": "markdown",
   "id": "ae536c8d",
   "metadata": {},
   "source": [
    "# TABLEAU\n",
    "### ¿ Existe alguna forma de programar, o de integrar Python con Tableau ?"
   ]
  },
  {
   "cell_type": "markdown",
   "id": "77677dd3",
   "metadata": {},
   "source": [
    "TabPy, el servidor Python de Tableau, es una implementación de extensión de análisis que amplía las capacidades de Tableau. \n",
    "Una vez instalado tabpy, hay que configurar la conexion de extension de analisis de tableau:\n",
    "\n",
    "Seleccionar una extensión de Analytics:  Tableau Python (TabPy) Server.\n",
    "\n",
    "Server: localhost\n",
    "\n",
    "port: 9004, es el predeterminado de TabPy."
   ]
  },
  {
   "cell_type": "markdown",
   "id": "351158ce",
   "metadata": {},
   "source": [
    "\n"
   ]
  },
  {
   "cell_type": "markdown",
   "id": "53b056a3",
   "metadata": {},
   "source": [
    "# BOKEH"
   ]
  },
  {
   "cell_type": "code",
   "execution_count": 1,
   "id": "dbe3b118",
   "metadata": {},
   "outputs": [
    {
     "data": {
      "text/html": [
       "<div>\n",
       "<style scoped>\n",
       "    .dataframe tbody tr th:only-of-type {\n",
       "        vertical-align: middle;\n",
       "    }\n",
       "\n",
       "    .dataframe tbody tr th {\n",
       "        vertical-align: top;\n",
       "    }\n",
       "\n",
       "    .dataframe thead th {\n",
       "        text-align: right;\n",
       "    }\n",
       "</style>\n",
       "<table border=\"1\" class=\"dataframe\">\n",
       "  <thead>\n",
       "    <tr style=\"text-align: right;\">\n",
       "      <th></th>\n",
       "      <th>Id</th>\n",
       "      <th>SepalLengthCm</th>\n",
       "      <th>SepalWidthCm</th>\n",
       "      <th>PetalLengthCm</th>\n",
       "      <th>PetalWidthCm</th>\n",
       "      <th>Species</th>\n",
       "    </tr>\n",
       "  </thead>\n",
       "  <tbody>\n",
       "    <tr>\n",
       "      <th>0</th>\n",
       "      <td>1</td>\n",
       "      <td>5.1</td>\n",
       "      <td>3.5</td>\n",
       "      <td>1.4</td>\n",
       "      <td>0.2</td>\n",
       "      <td>Iris-setosa</td>\n",
       "    </tr>\n",
       "    <tr>\n",
       "      <th>1</th>\n",
       "      <td>2</td>\n",
       "      <td>4.9</td>\n",
       "      <td>3.0</td>\n",
       "      <td>1.4</td>\n",
       "      <td>0.2</td>\n",
       "      <td>Iris-setosa</td>\n",
       "    </tr>\n",
       "    <tr>\n",
       "      <th>2</th>\n",
       "      <td>3</td>\n",
       "      <td>4.7</td>\n",
       "      <td>3.2</td>\n",
       "      <td>1.3</td>\n",
       "      <td>0.2</td>\n",
       "      <td>Iris-setosa</td>\n",
       "    </tr>\n",
       "    <tr>\n",
       "      <th>3</th>\n",
       "      <td>4</td>\n",
       "      <td>4.6</td>\n",
       "      <td>3.1</td>\n",
       "      <td>1.5</td>\n",
       "      <td>0.2</td>\n",
       "      <td>Iris-setosa</td>\n",
       "    </tr>\n",
       "    <tr>\n",
       "      <th>4</th>\n",
       "      <td>5</td>\n",
       "      <td>5.0</td>\n",
       "      <td>3.6</td>\n",
       "      <td>1.4</td>\n",
       "      <td>0.2</td>\n",
       "      <td>Iris-setosa</td>\n",
       "    </tr>\n",
       "  </tbody>\n",
       "</table>\n",
       "</div>"
      ],
      "text/plain": [
       "   Id  SepalLengthCm  SepalWidthCm  PetalLengthCm  PetalWidthCm      Species\n",
       "0   1            5.1           3.5            1.4           0.2  Iris-setosa\n",
       "1   2            4.9           3.0            1.4           0.2  Iris-setosa\n",
       "2   3            4.7           3.2            1.3           0.2  Iris-setosa\n",
       "3   4            4.6           3.1            1.5           0.2  Iris-setosa\n",
       "4   5            5.0           3.6            1.4           0.2  Iris-setosa"
      ]
     },
     "execution_count": 1,
     "metadata": {},
     "output_type": "execute_result"
    }
   ],
   "source": [
    "import pandas as pd\n",
    "df=pd.read_csv(\"Iris.csv\")\n",
    "df.head()"
   ]
  },
  {
   "cell_type": "code",
   "execution_count": 21,
   "id": "6ab67cf7",
   "metadata": {},
   "outputs": [
    {
     "data": {
      "text/html": [
       "<div class=\"bk-root\">\n",
       "        <a href=\"https://bokeh.org\" target=\"_blank\" class=\"bk-logo bk-logo-small bk-logo-notebook\"></a>\n",
       "        <span id=\"10802\">Loading BokehJS ...</span>\n",
       "    </div>\n"
      ]
     },
     "metadata": {},
     "output_type": "display_data"
    },
    {
     "data": {
      "application/javascript": [
       "(function(root) {\n",
       "  function now() {\n",
       "    return new Date();\n",
       "  }\n",
       "\n",
       "  const force = true;\n",
       "\n",
       "  if (typeof root._bokeh_onload_callbacks === \"undefined\" || force === true) {\n",
       "    root._bokeh_onload_callbacks = [];\n",
       "    root._bokeh_is_loading = undefined;\n",
       "  }\n",
       "\n",
       "const JS_MIME_TYPE = 'application/javascript';\n",
       "  const HTML_MIME_TYPE = 'text/html';\n",
       "  const EXEC_MIME_TYPE = 'application/vnd.bokehjs_exec.v0+json';\n",
       "  const CLASS_NAME = 'output_bokeh rendered_html';\n",
       "\n",
       "  /**\n",
       "   * Render data to the DOM node\n",
       "   */\n",
       "  function render(props, node) {\n",
       "    const script = document.createElement(\"script\");\n",
       "    node.appendChild(script);\n",
       "  }\n",
       "\n",
       "  /**\n",
       "   * Handle when an output is cleared or removed\n",
       "   */\n",
       "  function handleClearOutput(event, handle) {\n",
       "    const cell = handle.cell;\n",
       "\n",
       "    const id = cell.output_area._bokeh_element_id;\n",
       "    const server_id = cell.output_area._bokeh_server_id;\n",
       "    // Clean up Bokeh references\n",
       "    if (id != null && id in Bokeh.index) {\n",
       "      Bokeh.index[id].model.document.clear();\n",
       "      delete Bokeh.index[id];\n",
       "    }\n",
       "\n",
       "    if (server_id !== undefined) {\n",
       "      // Clean up Bokeh references\n",
       "      const cmd_clean = \"from bokeh.io.state import curstate; print(curstate().uuid_to_server['\" + server_id + \"'].get_sessions()[0].document.roots[0]._id)\";\n",
       "      cell.notebook.kernel.execute(cmd_clean, {\n",
       "        iopub: {\n",
       "          output: function(msg) {\n",
       "            const id = msg.content.text.trim();\n",
       "            if (id in Bokeh.index) {\n",
       "              Bokeh.index[id].model.document.clear();\n",
       "              delete Bokeh.index[id];\n",
       "            }\n",
       "          }\n",
       "        }\n",
       "      });\n",
       "      // Destroy server and session\n",
       "      const cmd_destroy = \"import bokeh.io.notebook as ion; ion.destroy_server('\" + server_id + \"')\";\n",
       "      cell.notebook.kernel.execute(cmd_destroy);\n",
       "    }\n",
       "  }\n",
       "\n",
       "  /**\n",
       "   * Handle when a new output is added\n",
       "   */\n",
       "  function handleAddOutput(event, handle) {\n",
       "    const output_area = handle.output_area;\n",
       "    const output = handle.output;\n",
       "\n",
       "    // limit handleAddOutput to display_data with EXEC_MIME_TYPE content only\n",
       "    if ((output.output_type != \"display_data\") || (!Object.prototype.hasOwnProperty.call(output.data, EXEC_MIME_TYPE))) {\n",
       "      return\n",
       "    }\n",
       "\n",
       "    const toinsert = output_area.element.find(\".\" + CLASS_NAME.split(' ')[0]);\n",
       "\n",
       "    if (output.metadata[EXEC_MIME_TYPE][\"id\"] !== undefined) {\n",
       "      toinsert[toinsert.length - 1].firstChild.textContent = output.data[JS_MIME_TYPE];\n",
       "      // store reference to embed id on output_area\n",
       "      output_area._bokeh_element_id = output.metadata[EXEC_MIME_TYPE][\"id\"];\n",
       "    }\n",
       "    if (output.metadata[EXEC_MIME_TYPE][\"server_id\"] !== undefined) {\n",
       "      const bk_div = document.createElement(\"div\");\n",
       "      bk_div.innerHTML = output.data[HTML_MIME_TYPE];\n",
       "      const script_attrs = bk_div.children[0].attributes;\n",
       "      for (let i = 0; i < script_attrs.length; i++) {\n",
       "        toinsert[toinsert.length - 1].firstChild.setAttribute(script_attrs[i].name, script_attrs[i].value);\n",
       "        toinsert[toinsert.length - 1].firstChild.textContent = bk_div.children[0].textContent\n",
       "      }\n",
       "      // store reference to server id on output_area\n",
       "      output_area._bokeh_server_id = output.metadata[EXEC_MIME_TYPE][\"server_id\"];\n",
       "    }\n",
       "  }\n",
       "\n",
       "  function register_renderer(events, OutputArea) {\n",
       "\n",
       "    function append_mime(data, metadata, element) {\n",
       "      // create a DOM node to render to\n",
       "      const toinsert = this.create_output_subarea(\n",
       "        metadata,\n",
       "        CLASS_NAME,\n",
       "        EXEC_MIME_TYPE\n",
       "      );\n",
       "      this.keyboard_manager.register_events(toinsert);\n",
       "      // Render to node\n",
       "      const props = {data: data, metadata: metadata[EXEC_MIME_TYPE]};\n",
       "      render(props, toinsert[toinsert.length - 1]);\n",
       "      element.append(toinsert);\n",
       "      return toinsert\n",
       "    }\n",
       "\n",
       "    /* Handle when an output is cleared or removed */\n",
       "    events.on('clear_output.CodeCell', handleClearOutput);\n",
       "    events.on('delete.Cell', handleClearOutput);\n",
       "\n",
       "    /* Handle when a new output is added */\n",
       "    events.on('output_added.OutputArea', handleAddOutput);\n",
       "\n",
       "    /**\n",
       "     * Register the mime type and append_mime function with output_area\n",
       "     */\n",
       "    OutputArea.prototype.register_mime_type(EXEC_MIME_TYPE, append_mime, {\n",
       "      /* Is output safe? */\n",
       "      safe: true,\n",
       "      /* Index of renderer in `output_area.display_order` */\n",
       "      index: 0\n",
       "    });\n",
       "  }\n",
       "\n",
       "  // register the mime type if in Jupyter Notebook environment and previously unregistered\n",
       "  if (root.Jupyter !== undefined) {\n",
       "    const events = require('base/js/events');\n",
       "    const OutputArea = require('notebook/js/outputarea').OutputArea;\n",
       "\n",
       "    if (OutputArea.prototype.mime_types().indexOf(EXEC_MIME_TYPE) == -1) {\n",
       "      register_renderer(events, OutputArea);\n",
       "    }\n",
       "  }\n",
       "  if (typeof (root._bokeh_timeout) === \"undefined\" || force === true) {\n",
       "    root._bokeh_timeout = Date.now() + 5000;\n",
       "    root._bokeh_failed_load = false;\n",
       "  }\n",
       "\n",
       "  const NB_LOAD_WARNING = {'data': {'text/html':\n",
       "     \"<div style='background-color: #fdd'>\\n\"+\n",
       "     \"<p>\\n\"+\n",
       "     \"BokehJS does not appear to have successfully loaded. If loading BokehJS from CDN, this \\n\"+\n",
       "     \"may be due to a slow or bad network connection. Possible fixes:\\n\"+\n",
       "     \"</p>\\n\"+\n",
       "     \"<ul>\\n\"+\n",
       "     \"<li>re-rerun `output_notebook()` to attempt to load from CDN again, or</li>\\n\"+\n",
       "     \"<li>use INLINE resources instead, as so:</li>\\n\"+\n",
       "     \"</ul>\\n\"+\n",
       "     \"<code>\\n\"+\n",
       "     \"from bokeh.resources import INLINE\\n\"+\n",
       "     \"output_notebook(resources=INLINE)\\n\"+\n",
       "     \"</code>\\n\"+\n",
       "     \"</div>\"}};\n",
       "\n",
       "  function display_loaded() {\n",
       "    const el = document.getElementById(\"10802\");\n",
       "    if (el != null) {\n",
       "      el.textContent = \"BokehJS is loading...\";\n",
       "    }\n",
       "    if (root.Bokeh !== undefined) {\n",
       "      if (el != null) {\n",
       "        el.textContent = \"BokehJS \" + root.Bokeh.version + \" successfully loaded.\";\n",
       "      }\n",
       "    } else if (Date.now() < root._bokeh_timeout) {\n",
       "      setTimeout(display_loaded, 100)\n",
       "    }\n",
       "  }\n",
       "\n",
       "  function run_callbacks() {\n",
       "    try {\n",
       "      root._bokeh_onload_callbacks.forEach(function(callback) {\n",
       "        if (callback != null)\n",
       "          callback();\n",
       "      });\n",
       "    } finally {\n",
       "      delete root._bokeh_onload_callbacks\n",
       "    }\n",
       "    console.debug(\"Bokeh: all callbacks have finished\");\n",
       "  }\n",
       "\n",
       "  function load_libs(css_urls, js_urls, callback) {\n",
       "    if (css_urls == null) css_urls = [];\n",
       "    if (js_urls == null) js_urls = [];\n",
       "\n",
       "    root._bokeh_onload_callbacks.push(callback);\n",
       "    if (root._bokeh_is_loading > 0) {\n",
       "      console.debug(\"Bokeh: BokehJS is being loaded, scheduling callback at\", now());\n",
       "      return null;\n",
       "    }\n",
       "    if (js_urls == null || js_urls.length === 0) {\n",
       "      run_callbacks();\n",
       "      return null;\n",
       "    }\n",
       "    console.debug(\"Bokeh: BokehJS not loaded, scheduling load and callback at\", now());\n",
       "    root._bokeh_is_loading = css_urls.length + js_urls.length;\n",
       "\n",
       "    function on_load() {\n",
       "      root._bokeh_is_loading--;\n",
       "      if (root._bokeh_is_loading === 0) {\n",
       "        console.debug(\"Bokeh: all BokehJS libraries/stylesheets loaded\");\n",
       "        run_callbacks()\n",
       "      }\n",
       "    }\n",
       "\n",
       "    function on_error(url) {\n",
       "      console.error(\"failed to load \" + url);\n",
       "    }\n",
       "\n",
       "    for (let i = 0; i < css_urls.length; i++) {\n",
       "      const url = css_urls[i];\n",
       "      const element = document.createElement(\"link\");\n",
       "      element.onload = on_load;\n",
       "      element.onerror = on_error.bind(null, url);\n",
       "      element.rel = \"stylesheet\";\n",
       "      element.type = \"text/css\";\n",
       "      element.href = url;\n",
       "      console.debug(\"Bokeh: injecting link tag for BokehJS stylesheet: \", url);\n",
       "      document.body.appendChild(element);\n",
       "    }\n",
       "\n",
       "    for (let i = 0; i < js_urls.length; i++) {\n",
       "      const url = js_urls[i];\n",
       "      const element = document.createElement('script');\n",
       "      element.onload = on_load;\n",
       "      element.onerror = on_error.bind(null, url);\n",
       "      element.async = false;\n",
       "      element.src = url;\n",
       "      console.debug(\"Bokeh: injecting script tag for BokehJS library: \", url);\n",
       "      document.head.appendChild(element);\n",
       "    }\n",
       "  };\n",
       "\n",
       "  function inject_raw_css(css) {\n",
       "    const element = document.createElement(\"style\");\n",
       "    element.appendChild(document.createTextNode(css));\n",
       "    document.body.appendChild(element);\n",
       "  }\n",
       "\n",
       "  const js_urls = [\"https://cdn.bokeh.org/bokeh/release/bokeh-2.4.3.min.js\", \"https://cdn.bokeh.org/bokeh/release/bokeh-gl-2.4.3.min.js\", \"https://cdn.bokeh.org/bokeh/release/bokeh-widgets-2.4.3.min.js\", \"https://cdn.bokeh.org/bokeh/release/bokeh-tables-2.4.3.min.js\", \"https://cdn.bokeh.org/bokeh/release/bokeh-mathjax-2.4.3.min.js\"];\n",
       "  const css_urls = [];\n",
       "\n",
       "  const inline_js = [    function(Bokeh) {\n",
       "      Bokeh.set_log_level(\"info\");\n",
       "    },\n",
       "function(Bokeh) {\n",
       "    }\n",
       "  ];\n",
       "\n",
       "  function run_inline_js() {\n",
       "    if (root.Bokeh !== undefined || force === true) {\n",
       "          for (let i = 0; i < inline_js.length; i++) {\n",
       "      inline_js[i].call(root, root.Bokeh);\n",
       "    }\n",
       "if (force === true) {\n",
       "        display_loaded();\n",
       "      }} else if (Date.now() < root._bokeh_timeout) {\n",
       "      setTimeout(run_inline_js, 100);\n",
       "    } else if (!root._bokeh_failed_load) {\n",
       "      console.log(\"Bokeh: BokehJS failed to load within specified timeout.\");\n",
       "      root._bokeh_failed_load = true;\n",
       "    } else if (force !== true) {\n",
       "      const cell = $(document.getElementById(\"10802\")).parents('.cell').data().cell;\n",
       "      cell.output_area.append_execute_result(NB_LOAD_WARNING)\n",
       "    }\n",
       "  }\n",
       "\n",
       "  if (root._bokeh_is_loading === 0) {\n",
       "    console.debug(\"Bokeh: BokehJS loaded, going straight to plotting\");\n",
       "    run_inline_js();\n",
       "  } else {\n",
       "    load_libs(css_urls, js_urls, function() {\n",
       "      console.debug(\"Bokeh: BokehJS plotting callback run at\", now());\n",
       "      run_inline_js();\n",
       "    });\n",
       "  }\n",
       "}(window));"
      ],
      "application/vnd.bokehjs_load.v0+json": "(function(root) {\n  function now() {\n    return new Date();\n  }\n\n  const force = true;\n\n  if (typeof root._bokeh_onload_callbacks === \"undefined\" || force === true) {\n    root._bokeh_onload_callbacks = [];\n    root._bokeh_is_loading = undefined;\n  }\n\n\n  if (typeof (root._bokeh_timeout) === \"undefined\" || force === true) {\n    root._bokeh_timeout = Date.now() + 5000;\n    root._bokeh_failed_load = false;\n  }\n\n  const NB_LOAD_WARNING = {'data': {'text/html':\n     \"<div style='background-color: #fdd'>\\n\"+\n     \"<p>\\n\"+\n     \"BokehJS does not appear to have successfully loaded. If loading BokehJS from CDN, this \\n\"+\n     \"may be due to a slow or bad network connection. Possible fixes:\\n\"+\n     \"</p>\\n\"+\n     \"<ul>\\n\"+\n     \"<li>re-rerun `output_notebook()` to attempt to load from CDN again, or</li>\\n\"+\n     \"<li>use INLINE resources instead, as so:</li>\\n\"+\n     \"</ul>\\n\"+\n     \"<code>\\n\"+\n     \"from bokeh.resources import INLINE\\n\"+\n     \"output_notebook(resources=INLINE)\\n\"+\n     \"</code>\\n\"+\n     \"</div>\"}};\n\n  function display_loaded() {\n    const el = document.getElementById(\"10802\");\n    if (el != null) {\n      el.textContent = \"BokehJS is loading...\";\n    }\n    if (root.Bokeh !== undefined) {\n      if (el != null) {\n        el.textContent = \"BokehJS \" + root.Bokeh.version + \" successfully loaded.\";\n      }\n    } else if (Date.now() < root._bokeh_timeout) {\n      setTimeout(display_loaded, 100)\n    }\n  }\n\n  function run_callbacks() {\n    try {\n      root._bokeh_onload_callbacks.forEach(function(callback) {\n        if (callback != null)\n          callback();\n      });\n    } finally {\n      delete root._bokeh_onload_callbacks\n    }\n    console.debug(\"Bokeh: all callbacks have finished\");\n  }\n\n  function load_libs(css_urls, js_urls, callback) {\n    if (css_urls == null) css_urls = [];\n    if (js_urls == null) js_urls = [];\n\n    root._bokeh_onload_callbacks.push(callback);\n    if (root._bokeh_is_loading > 0) {\n      console.debug(\"Bokeh: BokehJS is being loaded, scheduling callback at\", now());\n      return null;\n    }\n    if (js_urls == null || js_urls.length === 0) {\n      run_callbacks();\n      return null;\n    }\n    console.debug(\"Bokeh: BokehJS not loaded, scheduling load and callback at\", now());\n    root._bokeh_is_loading = css_urls.length + js_urls.length;\n\n    function on_load() {\n      root._bokeh_is_loading--;\n      if (root._bokeh_is_loading === 0) {\n        console.debug(\"Bokeh: all BokehJS libraries/stylesheets loaded\");\n        run_callbacks()\n      }\n    }\n\n    function on_error(url) {\n      console.error(\"failed to load \" + url);\n    }\n\n    for (let i = 0; i < css_urls.length; i++) {\n      const url = css_urls[i];\n      const element = document.createElement(\"link\");\n      element.onload = on_load;\n      element.onerror = on_error.bind(null, url);\n      element.rel = \"stylesheet\";\n      element.type = \"text/css\";\n      element.href = url;\n      console.debug(\"Bokeh: injecting link tag for BokehJS stylesheet: \", url);\n      document.body.appendChild(element);\n    }\n\n    for (let i = 0; i < js_urls.length; i++) {\n      const url = js_urls[i];\n      const element = document.createElement('script');\n      element.onload = on_load;\n      element.onerror = on_error.bind(null, url);\n      element.async = false;\n      element.src = url;\n      console.debug(\"Bokeh: injecting script tag for BokehJS library: \", url);\n      document.head.appendChild(element);\n    }\n  };\n\n  function inject_raw_css(css) {\n    const element = document.createElement(\"style\");\n    element.appendChild(document.createTextNode(css));\n    document.body.appendChild(element);\n  }\n\n  const js_urls = [\"https://cdn.bokeh.org/bokeh/release/bokeh-2.4.3.min.js\", \"https://cdn.bokeh.org/bokeh/release/bokeh-gl-2.4.3.min.js\", \"https://cdn.bokeh.org/bokeh/release/bokeh-widgets-2.4.3.min.js\", \"https://cdn.bokeh.org/bokeh/release/bokeh-tables-2.4.3.min.js\", \"https://cdn.bokeh.org/bokeh/release/bokeh-mathjax-2.4.3.min.js\"];\n  const css_urls = [];\n\n  const inline_js = [    function(Bokeh) {\n      Bokeh.set_log_level(\"info\");\n    },\nfunction(Bokeh) {\n    }\n  ];\n\n  function run_inline_js() {\n    if (root.Bokeh !== undefined || force === true) {\n          for (let i = 0; i < inline_js.length; i++) {\n      inline_js[i].call(root, root.Bokeh);\n    }\nif (force === true) {\n        display_loaded();\n      }} else if (Date.now() < root._bokeh_timeout) {\n      setTimeout(run_inline_js, 100);\n    } else if (!root._bokeh_failed_load) {\n      console.log(\"Bokeh: BokehJS failed to load within specified timeout.\");\n      root._bokeh_failed_load = true;\n    } else if (force !== true) {\n      const cell = $(document.getElementById(\"10802\")).parents('.cell').data().cell;\n      cell.output_area.append_execute_result(NB_LOAD_WARNING)\n    }\n  }\n\n  if (root._bokeh_is_loading === 0) {\n    console.debug(\"Bokeh: BokehJS loaded, going straight to plotting\");\n    run_inline_js();\n  } else {\n    load_libs(css_urls, js_urls, function() {\n      console.debug(\"Bokeh: BokehJS plotting callback run at\", now());\n      run_inline_js();\n    });\n  }\n}(window));"
     },
     "metadata": {},
     "output_type": "display_data"
    },
    {
     "data": {
      "text/html": [
       "\n",
       "  <div class=\"bk-root\" id=\"1975388e-fb50-473d-9858-ea681c13061c\" data-root-id=\"10985\"></div>\n"
      ]
     },
     "metadata": {},
     "output_type": "display_data"
    },
    {
     "data": {
      "application/javascript": [
       "(function(root) {\n",
       "  function embed_document(root) {\n",
       "  const docs_json = {\"f13d48ab-dd1c-4dc4-a7bc-aac3b7f8d4fe\":{\"defs\":[],\"roots\":{\"references\":[{\"attributes\":{\"children\":[{\"id\":\"10803\"},{\"id\":\"10894\"}]},\"id\":\"10985\",\"type\":\"Row\"},{\"attributes\":{\"coordinates\":null,\"data_source\":{\"id\":\"10873\"},\"glyph\":{\"id\":\"10874\"},\"group\":null,\"hover_glyph\":null,\"muted_glyph\":{\"id\":\"10876\"},\"nonselection_glyph\":{\"id\":\"10875\"},\"view\":{\"id\":\"10878\"}},\"id\":\"10877\",\"type\":\"GlyphRenderer\"},{\"attributes\":{\"fill_alpha\":{\"value\":0.2},\"fill_color\":{\"value\":\"yellow\"},\"hatch_alpha\":{\"value\":0.2},\"hatch_color\":{\"value\":\"yellow\"},\"line_alpha\":{\"value\":0.2},\"line_color\":{\"value\":\"yellow\"},\"size\":{\"value\":7},\"x\":{\"field\":\"x\"},\"y\":{\"field\":\"y\"}},\"id\":\"10876\",\"type\":\"Circle\"},{\"attributes\":{},\"id\":\"10941\",\"type\":\"Selection\"},{\"attributes\":{\"below\":[{\"id\":\"10814\"}],\"center\":[{\"id\":\"10817\"},{\"id\":\"10821\"},{\"id\":\"10852\"}],\"height\":400,\"left\":[{\"id\":\"10818\"}],\"renderers\":[{\"id\":\"10840\"},{\"id\":\"10858\"},{\"id\":\"10877\"}],\"title\":{\"id\":\"10804\"},\"toolbar\":{\"id\":\"10829\"},\"width\":400,\"x_range\":{\"id\":\"10806\"},\"x_scale\":{\"id\":\"10810\"},\"y_range\":{\"id\":\"10808\"},\"y_scale\":{\"id\":\"10812\"}},\"id\":\"10803\",\"subtype\":\"Figure\",\"type\":\"Plot\"},{\"attributes\":{\"label\":{\"value\":\"Setosa\"},\"renderers\":[{\"id\":\"10840\"}]},\"id\":\"10853\",\"type\":\"LegendItem\"},{\"attributes\":{\"coordinates\":null,\"group\":null,\"items\":[{\"id\":\"10853\"},{\"id\":\"10872\"},{\"id\":\"10893\"}],\"label_text_color\":\"blue\",\"location\":\"top_left\",\"title\":\"Especies\"},\"id\":\"10852\",\"type\":\"Legend\"},{\"attributes\":{\"fill_color\":{\"value\":\"yellow\"},\"hatch_color\":{\"value\":\"yellow\"},\"line_color\":{\"value\":\"yellow\"},\"size\":{\"value\":7},\"x\":{\"field\":\"x\"},\"y\":{\"field\":\"y\"}},\"id\":\"10874\",\"type\":\"Circle\"},{\"attributes\":{\"data\":{\"x\":{\"__ndarray__\":\"AAAAAAAAGEBmZmZmZmYUQJqZmZmZmRdAZmZmZmZmFkAzMzMzMzMXQGZmZmZmZhpAAAAAAAAAEkAzMzMzMzMZQDMzMzMzMxdAZmZmZmZmGEBmZmZmZmYUQDMzMzMzMxVAAAAAAAAAFkAAAAAAAAAUQGZmZmZmZhRAMzMzMzMzFUAAAAAAAAAWQM3MzMzMzBpAmpmZmZmZG0AAAAAAAAAUQM3MzMzMzBZAmpmZmZmZE0DNzMzMzMwaQJqZmZmZmRNAzczMzMzMFkAAAAAAAAAYQDMzMzMzMxNAmpmZmZmZE0BmZmZmZmYWQDMzMzMzMxdAZmZmZmZmGECamZmZmZkZQGZmZmZmZhZAZmZmZmZmFEBmZmZmZmYWQGZmZmZmZhhAZmZmZmZmFkAAAAAAAAAWQDMzMzMzMxNAmpmZmZmZFUBmZmZmZmYWQGZmZmZmZhRAZmZmZmZmFECamZmZmZkXQM3MzMzMzBZAzczMzMzMFEAAAAAAAAAUQM3MzMzMzBRAmpmZmZmZFUBmZmZmZmYUQA==\",\"dtype\":\"float64\",\"order\":\"little\",\"shape\":[50]},\"y\":{\"__ndarray__\":\"AAAAAAAABEBmZmZmZmb+P83MzMzMzABAzczMzMzM/D+amZmZmZkBQM3MzMzMzABAMzMzMzMz+z/NzMzMzMz8P83MzMzMzPw/AAAAAAAABEAAAAAAAAAAQGZmZmZmZv4/zczMzMzMAEAAAAAAAAAAQDMzMzMzMwNAZmZmZmZmAkDNzMzMzMz8P5qZmZmZmQFAZmZmZmZmAkAAAAAAAAD4P2ZmZmZmZgJAAAAAAAAAAEAAAAAAAAAAQM3MzMzMzPw/zczMzMzMAEDNzMzMzMz8P83MzMzMzPw/zczMzMzM/D/NzMzMzMwAQJqZmZmZmfk/ZmZmZmZm/j8AAAAAAAAAQJqZmZmZmQFAAAAAAAAA+D9mZmZmZmb2P2ZmZmZmZgJAMzMzMzMzA0DNzMzMzMz8P83MzMzMzPw/zczMzMzMAEAzMzMzMzMDQGZmZmZmZgJAZmZmZmZm/j9mZmZmZmYCQAAAAAAAAARAZmZmZmZmAkBmZmZmZmb+PwAAAAAAAABAZmZmZmZmAkDNzMzMzMz8Pw==\",\"dtype\":\"float64\",\"order\":\"little\",\"shape\":[50]}},\"selected\":{\"id\":\"10891\"},\"selection_policy\":{\"id\":\"10890\"}},\"id\":\"10873\",\"type\":\"ColumnDataSource\"},{\"attributes\":{\"label\":{\"value\":\"Virginica.\"},\"renderers\":[{\"id\":\"10877\"}]},\"id\":\"10893\",\"type\":\"LegendItem\"},{\"attributes\":{\"coordinates\":null,\"data_source\":{\"id\":\"10836\"},\"glyph\":{\"id\":\"10837\"},\"group\":null,\"hover_glyph\":null,\"muted_glyph\":{\"id\":\"10839\"},\"nonselection_glyph\":{\"id\":\"10838\"},\"view\":{\"id\":\"10841\"}},\"id\":\"10840\",\"type\":\"GlyphRenderer\"},{\"attributes\":{},\"id\":\"10897\",\"type\":\"DataRange1d\"},{\"attributes\":{},\"id\":\"10891\",\"type\":\"Selection\"},{\"attributes\":{\"fill_color\":{\"value\":\"blue\"},\"hatch_color\":{\"value\":\"blue\"},\"line_color\":{\"value\":\"blue\"},\"marker\":{\"value\":\"triangle\"},\"size\":{\"value\":8},\"x\":{\"field\":\"x\"},\"y\":{\"field\":\"y\"}},\"id\":\"10928\",\"type\":\"Scatter\"},{\"attributes\":{\"data\":{\"x\":{\"__ndarray__\":\"zczMzMzMEkAAAAAAAAASQJqZmZmZmRNAAAAAAAAAEEBmZmZmZmYSQAAAAAAAABJAzczMzMzMEkBmZmZmZmYKQGZmZmZmZhJAMzMzMzMzD0AAAAAAAAAMQM3MzMzMzBBAAAAAAAAAEEDNzMzMzMwSQM3MzMzMzAxAmpmZmZmZEUAAAAAAAAASQGZmZmZmZhBAAAAAAAAAEkAzMzMzMzMPQDMzMzMzMxNAAAAAAAAAEECamZmZmZkTQM3MzMzMzBJAMzMzMzMzEUCamZmZmZkRQDMzMzMzMxNAAAAAAAAAFEAAAAAAAAASQAAAAAAAAAxAZmZmZmZmDkCamZmZmZkNQDMzMzMzMw9AZmZmZmZmFEAAAAAAAAASQAAAAAAAABJAzczMzMzMEkCamZmZmZkRQGZmZmZmZhBAAAAAAAAAEECamZmZmZkRQGZmZmZmZhJAAAAAAAAAEEBmZmZmZmYKQM3MzMzMzBBAzczMzMzMEEDNzMzMzMwQQDMzMzMzMxFAAAAAAAAACEBmZmZmZmYQQA==\",\"dtype\":\"float64\",\"order\":\"little\",\"shape\":[50]},\"y\":{\"__ndarray__\":\"ZmZmZmZm9j8AAAAAAAD4PwAAAAAAAPg/zczMzMzM9D8AAAAAAAD4P83MzMzMzPQ/mpmZmZmZ+T8AAAAAAADwP83MzMzMzPQ/ZmZmZmZm9j8AAAAAAADwPwAAAAAAAPg/AAAAAAAA8D9mZmZmZmb2P83MzMzMzPQ/ZmZmZmZm9j8AAAAAAAD4PwAAAAAAAPA/AAAAAAAA+D+amZmZmZnxP83MzMzMzPw/zczMzMzM9D8AAAAAAAD4PzMzMzMzM/M/zczMzMzM9D9mZmZmZmb2P2ZmZmZmZvY/MzMzMzMz+z8AAAAAAAD4PwAAAAAAAPA/mpmZmZmZ8T8AAAAAAADwPzMzMzMzM/M/mpmZmZmZ+T8AAAAAAAD4P5qZmZmZmfk/AAAAAAAA+D/NzMzMzMz0P83MzMzMzPQ/zczMzMzM9D8zMzMzMzPzP2ZmZmZmZvY/MzMzMzMz8z8AAAAAAADwP83MzMzMzPQ/MzMzMzMz8z/NzMzMzMz0P83MzMzMzPQ/mpmZmZmZ8T/NzMzMzMz0Pw==\",\"dtype\":\"float64\",\"order\":\"little\",\"shape\":[50]}},\"selected\":{\"id\":\"10870\"},\"selection_policy\":{\"id\":\"10869\"}},\"id\":\"10854\",\"type\":\"ColumnDataSource\"},{\"attributes\":{\"data\":{\"x\":{\"__ndarray__\":\"ZmZmZmZmFECamZmZmZkTQM3MzMzMzBJAZmZmZmZmEkAAAAAAAAAUQJqZmZmZmRVAZmZmZmZmEkAAAAAAAAAUQJqZmZmZmRFAmpmZmZmZE0CamZmZmZkVQDMzMzMzMxNAMzMzMzMzE0AzMzMzMzMRQDMzMzMzMxdAzczMzMzMFkCamZmZmZkVQGZmZmZmZhRAzczMzMzMFkBmZmZmZmYUQJqZmZmZmRVAZmZmZmZmFEBmZmZmZmYSQGZmZmZmZhRAMzMzMzMzE0AAAAAAAAAUQAAAAAAAABRAzczMzMzMFEDNzMzMzMwUQM3MzMzMzBJAMzMzMzMzE0CamZmZmZkVQM3MzMzMzBRAAAAAAAAAFkCamZmZmZkTQAAAAAAAABRAAAAAAAAAFkCamZmZmZkTQJqZmZmZmRFAZmZmZmZmFEAAAAAAAAAUQAAAAAAAABJAmpmZmZmZEUAAAAAAAAAUQGZmZmZmZhRAMzMzMzMzE0BmZmZmZmYUQGZmZmZmZhJAMzMzMzMzFUAAAAAAAAAUQA==\",\"dtype\":\"float64\",\"order\":\"little\",\"shape\":[50]},\"y\":{\"__ndarray__\":\"AAAAAAAADEAAAAAAAAAIQJqZmZmZmQlAzczMzMzMCEDNzMzMzMwMQDMzMzMzMw9AMzMzMzMzC0AzMzMzMzMLQDMzMzMzMwdAzczMzMzMCECamZmZmZkNQDMzMzMzMwtAAAAAAAAACEAAAAAAAAAIQAAAAAAAABBAmpmZmZmZEUAzMzMzMzMPQAAAAAAAAAxAZmZmZmZmDkBmZmZmZmYOQDMzMzMzMwtAmpmZmZmZDUDNzMzMzMwMQGZmZmZmZgpAMzMzMzMzC0AAAAAAAAAIQDMzMzMzMwtAAAAAAAAADEAzMzMzMzMLQJqZmZmZmQlAzczMzMzMCEAzMzMzMzMLQGZmZmZmZhBAzczMzMzMEEDNzMzMzMwIQJqZmZmZmQlAAAAAAAAADEDNzMzMzMwIQAAAAAAAAAhAMzMzMzMzC0AAAAAAAAAMQGZmZmZmZgJAmpmZmZmZCUAAAAAAAAAMQGZmZmZmZg5AAAAAAAAACEBmZmZmZmYOQJqZmZmZmQlAmpmZmZmZDUBmZmZmZmYKQA==\",\"dtype\":\"float64\",\"order\":\"little\",\"shape\":[50]}},\"selected\":{\"id\":\"10941\"},\"selection_policy\":{\"id\":\"10940\"}},\"id\":\"10927\",\"type\":\"ColumnDataSource\"},{\"attributes\":{\"axis_label\":\"PetalWidth\",\"coordinates\":null,\"formatter\":{\"id\":\"10844\"},\"group\":null,\"major_label_policy\":{\"id\":\"10845\"},\"ticker\":{\"id\":\"10819\"}},\"id\":\"10818\",\"type\":\"LinearAxis\"},{\"attributes\":{\"fill_alpha\":{\"value\":0.1},\"fill_color\":{\"value\":\"blue\"},\"hatch_alpha\":{\"value\":0.1},\"hatch_color\":{\"value\":\"blue\"},\"line_alpha\":{\"value\":0.1},\"line_color\":{\"value\":\"blue\"},\"marker\":{\"value\":\"triangle\"},\"size\":{\"value\":8},\"x\":{\"field\":\"x\"},\"y\":{\"field\":\"y\"}},\"id\":\"10929\",\"type\":\"Scatter\"},{\"attributes\":{\"axis_label\":\"PetalLength\",\"coordinates\":null,\"formatter\":{\"id\":\"10847\"},\"group\":null,\"major_label_policy\":{\"id\":\"10848\"},\"ticker\":{\"id\":\"10815\"}},\"id\":\"10814\",\"type\":\"LinearAxis\"},{\"attributes\":{\"coordinates\":null,\"data_source\":{\"id\":\"10927\"},\"glyph\":{\"id\":\"10928\"},\"group\":null,\"hover_glyph\":null,\"muted_glyph\":{\"id\":\"10930\"},\"nonselection_glyph\":{\"id\":\"10929\"},\"view\":{\"id\":\"10932\"}},\"id\":\"10931\",\"type\":\"GlyphRenderer\"},{\"attributes\":{\"fill_alpha\":{\"value\":0.5},\"fill_color\":{\"value\":\"yellow\"},\"hatch_alpha\":{\"value\":0.5},\"hatch_color\":{\"value\":\"yellow\"},\"line_alpha\":{\"value\":0.5},\"line_color\":{\"value\":\"yellow\"},\"marker\":{\"value\":\"square\"},\"size\":{\"value\":8},\"x\":{\"field\":\"x\"},\"y\":{\"field\":\"y\"}},\"id\":\"10965\",\"type\":\"Scatter\"},{\"attributes\":{\"fill_alpha\":{\"value\":0.1},\"fill_color\":{\"value\":\"blue\"},\"hatch_alpha\":{\"value\":0.1},\"hatch_color\":{\"value\":\"blue\"},\"line_alpha\":{\"value\":0.1},\"line_color\":{\"value\":\"blue\"},\"size\":{\"value\":7},\"x\":{\"field\":\"x\"},\"y\":{\"field\":\"y\"}},\"id\":\"10838\",\"type\":\"Circle\"},{\"attributes\":{\"source\":{\"id\":\"10927\"}},\"id\":\"10932\",\"type\":\"CDSView\"},{\"attributes\":{\"data\":{\"x\":{\"__ndarray__\":\"MzMzMzMzGUAzMzMzMzMXQGZmZmZmZhxAMzMzMzMzGUAAAAAAAAAaQGZmZmZmZh5AmpmZmZmZE0AzMzMzMzMdQM3MzMzMzBpAzczMzMzMHEAAAAAAAAAaQJqZmZmZmRlAMzMzMzMzG0DNzMzMzMwWQDMzMzMzMxdAmpmZmZmZGUAAAAAAAAAaQM3MzMzMzB5AzczMzMzMHkAAAAAAAAAYQJqZmZmZmRtAZmZmZmZmFkDNzMzMzMweQDMzMzMzMxlAzczMzMzMGkDNzMzMzMwcQM3MzMzMzBhAZmZmZmZmGECamZmZmZkZQM3MzMzMzBxAmpmZmZmZHUCamZmZmZkfQJqZmZmZmRlAMzMzMzMzGUBmZmZmZmYYQM3MzMzMzB5AMzMzMzMzGUCamZmZmZkZQAAAAAAAABhAmpmZmZmZG0DNzMzMzMwaQJqZmZmZmRtAMzMzMzMzF0AzMzMzMzMbQM3MzMzMzBpAzczMzMzMGkAzMzMzMzMZQAAAAAAAABpAzczMzMzMGECamZmZmZkXQA==\",\"dtype\":\"float64\",\"order\":\"little\",\"shape\":[50]},\"y\":{\"__ndarray__\":\"ZmZmZmZmCkCamZmZmZkFQAAAAAAAAAhAMzMzMzMzB0AAAAAAAAAIQAAAAAAAAAhAAAAAAAAABEAzMzMzMzMHQAAAAAAAAARAzczMzMzMDECamZmZmZkJQJqZmZmZmQVAAAAAAAAACEAAAAAAAAAEQGZmZmZmZgZAmpmZmZmZCUAAAAAAAAAIQGZmZmZmZg5AzczMzMzMBECamZmZmZkBQJqZmZmZmQlAZmZmZmZmBkBmZmZmZmYGQJqZmZmZmQVAZmZmZmZmCkCamZmZmZkJQGZmZmZmZgZAAAAAAAAACEBmZmZmZmYGQAAAAAAAAAhAZmZmZmZmBkBmZmZmZmYOQGZmZmZmZgZAZmZmZmZmBkDNzMzMzMwEQAAAAAAAAAhAMzMzMzMzC0DNzMzMzMwIQAAAAAAAAAhAzczMzMzMCEDNzMzMzMwIQM3MzMzMzAhAmpmZmZmZBUCamZmZmZkJQGZmZmZmZgpAAAAAAAAACEAAAAAAAAAEQAAAAAAAAAhAMzMzMzMzC0AAAAAAAAAIQA==\",\"dtype\":\"float64\",\"order\":\"little\",\"shape\":[50]}},\"selected\":{\"id\":\"10982\"},\"selection_policy\":{\"id\":\"10981\"}},\"id\":\"10964\",\"type\":\"ColumnDataSource\"},{\"attributes\":{\"fill_alpha\":{\"value\":0.2},\"fill_color\":{\"value\":\"blue\"},\"hatch_alpha\":{\"value\":0.2},\"hatch_color\":{\"value\":\"blue\"},\"line_alpha\":{\"value\":0.2},\"line_color\":{\"value\":\"blue\"},\"marker\":{\"value\":\"triangle\"},\"size\":{\"value\":8},\"x\":{\"field\":\"x\"},\"y\":{\"field\":\"y\"}},\"id\":\"10930\",\"type\":\"Scatter\"},{\"attributes\":{\"fill_alpha\":{\"value\":0.1},\"fill_color\":{\"value\":\"yellow\"},\"hatch_alpha\":{\"value\":0.1},\"hatch_color\":{\"value\":\"yellow\"},\"line_alpha\":{\"value\":0.1},\"line_color\":{\"value\":\"yellow\"},\"marker\":{\"value\":\"square\"},\"size\":{\"value\":8},\"x\":{\"field\":\"x\"},\"y\":{\"field\":\"y\"}},\"id\":\"10966\",\"type\":\"Scatter\"},{\"attributes\":{},\"id\":\"10825\",\"type\":\"SaveTool\"},{\"attributes\":{\"label\":{\"value\":\"Setosa\"},\"renderers\":[{\"id\":\"10931\"}]},\"id\":\"10944\",\"type\":\"LegendItem\"},{\"attributes\":{\"coordinates\":null,\"group\":null,\"items\":[{\"id\":\"10944\"},{\"id\":\"10963\"},{\"id\":\"10984\"}],\"label_text_color\":\"blue\",\"title\":\"Especies\"},\"id\":\"10943\",\"type\":\"Legend\"},{\"attributes\":{\"fill_alpha\":{\"value\":0.2},\"fill_color\":{\"value\":\"yellow\"},\"hatch_alpha\":{\"value\":0.2},\"hatch_color\":{\"value\":\"yellow\"},\"line_alpha\":{\"value\":0.2},\"line_color\":{\"value\":\"yellow\"},\"marker\":{\"value\":\"square\"},\"size\":{\"value\":8},\"x\":{\"field\":\"x\"},\"y\":{\"field\":\"y\"}},\"id\":\"10967\",\"type\":\"Scatter\"},{\"attributes\":{},\"id\":\"10844\",\"type\":\"BasicTickFormatter\"},{\"attributes\":{\"label\":{\"value\":\"Virginica.\"},\"renderers\":[{\"id\":\"10968\"}]},\"id\":\"10984\",\"type\":\"LegendItem\"},{\"attributes\":{},\"id\":\"10890\",\"type\":\"UnionRenderers\"},{\"attributes\":{\"fill_color\":{\"value\":\"green\"},\"hatch_color\":{\"value\":\"green\"},\"line_color\":{\"value\":\"green\"},\"size\":{\"value\":7},\"x\":{\"field\":\"x\"},\"y\":{\"field\":\"y\"}},\"id\":\"10855\",\"type\":\"Circle\"},{\"attributes\":{\"source\":{\"id\":\"10964\"}},\"id\":\"10969\",\"type\":\"CDSView\"},{\"attributes\":{\"align\":\"center\",\"coordinates\":null,\"group\":null,\"text\":\"Grafico Sepalo con Bokeh\"},\"id\":\"10895\",\"type\":\"Title\"},{\"attributes\":{\"fill_alpha\":{\"value\":0.1},\"fill_color\":{\"value\":\"green\"},\"hatch_alpha\":{\"value\":0.1},\"hatch_color\":{\"value\":\"green\"},\"line_alpha\":{\"value\":0.1},\"line_color\":{\"value\":\"green\"},\"size\":{\"value\":7},\"x\":{\"field\":\"x\"},\"y\":{\"field\":\"y\"}},\"id\":\"10856\",\"type\":\"Circle\"},{\"attributes\":{\"coordinates\":null,\"data_source\":{\"id\":\"10964\"},\"glyph\":{\"id\":\"10965\"},\"group\":null,\"hover_glyph\":null,\"muted_glyph\":{\"id\":\"10967\"},\"nonselection_glyph\":{\"id\":\"10966\"},\"view\":{\"id\":\"10969\"}},\"id\":\"10968\",\"type\":\"GlyphRenderer\"},{\"attributes\":{},\"id\":\"10845\",\"type\":\"AllLabels\"},{\"attributes\":{\"fill_alpha\":{\"value\":0.2},\"fill_color\":{\"value\":\"green\"},\"hatch_alpha\":{\"value\":0.2},\"hatch_color\":{\"value\":\"green\"},\"line_alpha\":{\"value\":0.2},\"line_color\":{\"value\":\"green\"},\"size\":{\"value\":7},\"x\":{\"field\":\"x\"},\"y\":{\"field\":\"y\"}},\"id\":\"10857\",\"type\":\"Circle\"},{\"attributes\":{\"coordinates\":null,\"data_source\":{\"id\":\"10854\"},\"glyph\":{\"id\":\"10855\"},\"group\":null,\"hover_glyph\":null,\"muted_glyph\":{\"id\":\"10857\"},\"nonselection_glyph\":{\"id\":\"10856\"},\"view\":{\"id\":\"10859\"}},\"id\":\"10858\",\"type\":\"GlyphRenderer\"},{\"attributes\":{},\"id\":\"10847\",\"type\":\"BasicTickFormatter\"},{\"attributes\":{},\"id\":\"10981\",\"type\":\"UnionRenderers\"},{\"attributes\":{\"source\":{\"id\":\"10854\"}},\"id\":\"10859\",\"type\":\"CDSView\"},{\"attributes\":{},\"id\":\"10901\",\"type\":\"LinearScale\"},{\"attributes\":{},\"id\":\"10982\",\"type\":\"Selection\"},{\"attributes\":{},\"id\":\"10848\",\"type\":\"AllLabels\"},{\"attributes\":{\"label\":{\"value\":\"Versicolor.\"},\"renderers\":[{\"id\":\"10858\"}]},\"id\":\"10872\",\"type\":\"LegendItem\"},{\"attributes\":{},\"id\":\"10870\",\"type\":\"Selection\"},{\"attributes\":{\"axis_label\":\"SepalLength\",\"coordinates\":null,\"formatter\":{\"id\":\"10938\"},\"group\":null,\"major_label_policy\":{\"id\":\"10939\"},\"ticker\":{\"id\":\"10906\"}},\"id\":\"10905\",\"type\":\"LinearAxis\"},{\"attributes\":{},\"id\":\"10808\",\"type\":\"DataRange1d\"},{\"attributes\":{},\"id\":\"10869\",\"type\":\"UnionRenderers\"},{\"attributes\":{},\"id\":\"10903\",\"type\":\"LinearScale\"},{\"attributes\":{},\"id\":\"10849\",\"type\":\"UnionRenderers\"},{\"attributes\":{},\"id\":\"10806\",\"type\":\"DataRange1d\"},{\"attributes\":{},\"id\":\"10899\",\"type\":\"DataRange1d\"},{\"attributes\":{\"fill_color\":{\"value\":\"green\"},\"hatch_color\":{\"value\":\"green\"},\"line_color\":{\"value\":\"green\"},\"size\":{\"value\":8},\"x\":{\"field\":\"x\"},\"y\":{\"field\":\"y\"}},\"id\":\"10946\",\"type\":\"Circle\"},{\"attributes\":{\"data\":{\"x\":{\"__ndarray__\":\"AAAAAAAAHECamZmZmZkZQJqZmZmZmRtAAAAAAAAAFkAAAAAAAAAaQM3MzMzMzBZAMzMzMzMzGUCamZmZmZkTQGZmZmZmZhpAzczMzMzMFEAAAAAAAAAUQJqZmZmZmRdAAAAAAAAAGEBmZmZmZmYYQGZmZmZmZhZAzczMzMzMGkBmZmZmZmYWQDMzMzMzMxdAzczMzMzMGEBmZmZmZmYWQJqZmZmZmRdAZmZmZmZmGEAzMzMzMzMZQGZmZmZmZhhAmpmZmZmZGUBmZmZmZmYaQDMzMzMzMxtAzczMzMzMGkAAAAAAAAAYQM3MzMzMzBZAAAAAAAAAFkAAAAAAAAAWQDMzMzMzMxdAAAAAAAAAGECamZmZmZkVQAAAAAAAABhAzczMzMzMGkAzMzMzMzMZQGZmZmZmZhZAAAAAAAAAFkAAAAAAAAAWQGZmZmZmZhhAMzMzMzMzF0AAAAAAAAAUQGZmZmZmZhZAzczMzMzMFkDNzMzMzMwWQM3MzMzMzBhAZmZmZmZmFEDNzMzMzMwWQA==\",\"dtype\":\"float64\",\"order\":\"little\",\"shape\":[50]},\"y\":{\"__ndarray__\":\"mpmZmZmZCUCamZmZmZkJQM3MzMzMzAhAZmZmZmZmAkBmZmZmZmYGQGZmZmZmZgZAZmZmZmZmCkAzMzMzMzMDQDMzMzMzMwdAmpmZmZmZBUAAAAAAAAAAQAAAAAAAAAhAmpmZmZmZAUAzMzMzMzMHQDMzMzMzMwdAzczMzMzMCEAAAAAAAAAIQJqZmZmZmQVAmpmZmZmZAUAAAAAAAAAEQJqZmZmZmQlAZmZmZmZmBkAAAAAAAAAEQGZmZmZmZgZAMzMzMzMzB0AAAAAAAAAIQGZmZmZmZgZAAAAAAAAACEAzMzMzMzMHQM3MzMzMzARAMzMzMzMzA0AzMzMzMzMDQJqZmZmZmQVAmpmZmZmZBUAAAAAAAAAIQDMzMzMzMwtAzczMzMzMCEBmZmZmZmYCQAAAAAAAAAhAAAAAAAAABEDNzMzMzMwEQAAAAAAAAAhAzczMzMzMBEBmZmZmZmYCQJqZmZmZmQVAAAAAAAAACEAzMzMzMzMHQDMzMzMzMwdAAAAAAAAABEBmZmZmZmYGQA==\",\"dtype\":\"float64\",\"order\":\"little\",\"shape\":[50]}},\"selected\":{\"id\":\"10961\"},\"selection_policy\":{\"id\":\"10960\"}},\"id\":\"10945\",\"type\":\"ColumnDataSource\"},{\"attributes\":{},\"id\":\"10906\",\"type\":\"BasicTicker\"},{\"attributes\":{\"fill_alpha\":{\"value\":0.1},\"fill_color\":{\"value\":\"green\"},\"hatch_alpha\":{\"value\":0.1},\"hatch_color\":{\"value\":\"green\"},\"line_alpha\":{\"value\":0.1},\"line_color\":{\"value\":\"green\"},\"size\":{\"value\":8},\"x\":{\"field\":\"x\"},\"y\":{\"field\":\"y\"}},\"id\":\"10947\",\"type\":\"Circle\"},{\"attributes\":{},\"id\":\"10850\",\"type\":\"Selection\"},{\"attributes\":{\"axis\":{\"id\":\"10905\"},\"coordinates\":null,\"group\":null,\"ticker\":null},\"id\":\"10908\",\"type\":\"Grid\"},{\"attributes\":{\"align\":\"center\",\"coordinates\":null,\"group\":null,\"text\":\"Grafico Petalo con Bokeh\"},\"id\":\"10804\",\"type\":\"Title\"},{\"attributes\":{\"fill_alpha\":{\"value\":0.2},\"fill_color\":{\"value\":\"green\"},\"hatch_alpha\":{\"value\":0.2},\"hatch_color\":{\"value\":\"green\"},\"line_alpha\":{\"value\":0.2},\"line_color\":{\"value\":\"green\"},\"size\":{\"value\":8},\"x\":{\"field\":\"x\"},\"y\":{\"field\":\"y\"}},\"id\":\"10948\",\"type\":\"Circle\"},{\"attributes\":{},\"id\":\"10914\",\"type\":\"WheelZoomTool\"},{\"attributes\":{},\"id\":\"10812\",\"type\":\"LinearScale\"},{\"attributes\":{\"coordinates\":null,\"data_source\":{\"id\":\"10945\"},\"glyph\":{\"id\":\"10946\"},\"group\":null,\"hover_glyph\":null,\"muted_glyph\":{\"id\":\"10948\"},\"nonselection_glyph\":{\"id\":\"10947\"},\"view\":{\"id\":\"10950\"}},\"id\":\"10949\",\"type\":\"GlyphRenderer\"},{\"attributes\":{},\"id\":\"10935\",\"type\":\"BasicTickFormatter\"},{\"attributes\":{\"axis_label\":\"SepalWidth\",\"coordinates\":null,\"formatter\":{\"id\":\"10935\"},\"group\":null,\"major_label_policy\":{\"id\":\"10936\"},\"ticker\":{\"id\":\"10910\"}},\"id\":\"10909\",\"type\":\"LinearAxis\"},{\"attributes\":{\"source\":{\"id\":\"10945\"}},\"id\":\"10950\",\"type\":\"CDSView\"},{\"attributes\":{\"axis\":{\"id\":\"10909\"},\"coordinates\":null,\"dimension\":1,\"group\":null,\"ticker\":null},\"id\":\"10912\",\"type\":\"Grid\"},{\"attributes\":{\"source\":{\"id\":\"10873\"}},\"id\":\"10878\",\"type\":\"CDSView\"},{\"attributes\":{},\"id\":\"10815\",\"type\":\"BasicTicker\"},{\"attributes\":{\"axis\":{\"id\":\"10814\"},\"coordinates\":null,\"group\":null,\"ticker\":null},\"id\":\"10817\",\"type\":\"Grid\"},{\"attributes\":{},\"id\":\"10910\",\"type\":\"BasicTicker\"},{\"attributes\":{},\"id\":\"10936\",\"type\":\"AllLabels\"},{\"attributes\":{},\"id\":\"10810\",\"type\":\"LinearScale\"},{\"attributes\":{\"label\":{\"value\":\"Versicolor.\"},\"renderers\":[{\"id\":\"10949\"}]},\"id\":\"10963\",\"type\":\"LegendItem\"},{\"attributes\":{},\"id\":\"10938\",\"type\":\"BasicTickFormatter\"},{\"attributes\":{\"tools\":[{\"id\":\"10822\"},{\"id\":\"10823\"},{\"id\":\"10824\"},{\"id\":\"10825\"},{\"id\":\"10826\"},{\"id\":\"10827\"}]},\"id\":\"10829\",\"type\":\"Toolbar\"},{\"attributes\":{},\"id\":\"10918\",\"type\":\"HelpTool\"},{\"attributes\":{\"fill_alpha\":{\"value\":0.2},\"fill_color\":{\"value\":\"blue\"},\"hatch_alpha\":{\"value\":0.2},\"hatch_color\":{\"value\":\"blue\"},\"line_alpha\":{\"value\":0.2},\"line_color\":{\"value\":\"blue\"},\"size\":{\"value\":7},\"x\":{\"field\":\"x\"},\"y\":{\"field\":\"y\"}},\"id\":\"10839\",\"type\":\"Circle\"},{\"attributes\":{},\"id\":\"10823\",\"type\":\"WheelZoomTool\"},{\"attributes\":{},\"id\":\"10913\",\"type\":\"PanTool\"},{\"attributes\":{\"data\":{\"x\":{\"__ndarray__\":\"ZmZmZmZm9j9mZmZmZmb2P83MzMzMzPQ/AAAAAAAA+D9mZmZmZmb2PzMzMzMzM/s/ZmZmZmZm9j8AAAAAAAD4P2ZmZmZmZvY/AAAAAAAA+D8AAAAAAAD4P5qZmZmZmfk/ZmZmZmZm9j+amZmZmZnxPzMzMzMzM/M/AAAAAAAA+D/NzMzMzMz0P2ZmZmZmZvY/MzMzMzMz+z8AAAAAAAD4PzMzMzMzM/s/AAAAAAAA+D8AAAAAAADwPzMzMzMzM/s/ZmZmZmZm/j+amZmZmZn5P5qZmZmZmfk/AAAAAAAA+D9mZmZmZmb2P5qZmZmZmfk/mpmZmZmZ+T8AAAAAAAD4PwAAAAAAAPg/ZmZmZmZm9j8AAAAAAAD4PzMzMzMzM/M/zczMzMzM9D8AAAAAAAD4P83MzMzMzPQ/AAAAAAAA+D/NzMzMzMz0P83MzMzMzPQ/zczMzMzM9D+amZmZmZn5P2ZmZmZmZv4/ZmZmZmZm9j+amZmZmZn5P2ZmZmZmZvY/AAAAAAAA+D9mZmZmZmb2Pw==\",\"dtype\":\"float64\",\"order\":\"little\",\"shape\":[50]},\"y\":{\"__ndarray__\":\"mpmZmZmZyT+amZmZmZnJP5qZmZmZmck/mpmZmZmZyT+amZmZmZnJP5qZmZmZmdk/MzMzMzMz0z+amZmZmZnJP5qZmZmZmck/mpmZmZmZuT+amZmZmZnJP5qZmZmZmck/mpmZmZmZuT+amZmZmZm5P5qZmZmZmck/mpmZmZmZ2T+amZmZmZnZPzMzMzMzM9M/MzMzMzMz0z8zMzMzMzPTP5qZmZmZmck/mpmZmZmZ2T+amZmZmZnJPwAAAAAAAOA/mpmZmZmZyT+amZmZmZnJP5qZmZmZmdk/mpmZmZmZyT+amZmZmZnJP5qZmZmZmck/mpmZmZmZyT+amZmZmZnZP5qZmZmZmbk/mpmZmZmZyT+amZmZmZm5P5qZmZmZmck/mpmZmZmZyT+amZmZmZm5P5qZmZmZmck/mpmZmZmZyT8zMzMzMzPTPzMzMzMzM9M/mpmZmZmZyT8zMzMzMzPjP5qZmZmZmdk/MzMzMzMz0z+amZmZmZnJP5qZmZmZmck/mpmZmZmZyT+amZmZmZnJPw==\",\"dtype\":\"float64\",\"order\":\"little\",\"shape\":[50]}},\"selected\":{\"id\":\"10850\"},\"selection_policy\":{\"id\":\"10849\"}},\"id\":\"10836\",\"type\":\"ColumnDataSource\"},{\"attributes\":{\"overlay\":{\"id\":\"10919\"}},\"id\":\"10915\",\"type\":\"BoxZoomTool\"},{\"attributes\":{},\"id\":\"10939\",\"type\":\"AllLabels\"},{\"attributes\":{\"axis\":{\"id\":\"10818\"},\"coordinates\":null,\"dimension\":1,\"group\":null,\"ticker\":null},\"id\":\"10821\",\"type\":\"Grid\"},{\"attributes\":{},\"id\":\"10916\",\"type\":\"SaveTool\"},{\"attributes\":{},\"id\":\"10961\",\"type\":\"Selection\"},{\"attributes\":{},\"id\":\"10819\",\"type\":\"BasicTicker\"},{\"attributes\":{},\"id\":\"10917\",\"type\":\"ResetTool\"},{\"attributes\":{},\"id\":\"10960\",\"type\":\"UnionRenderers\"},{\"attributes\":{\"below\":[{\"id\":\"10905\"}],\"center\":[{\"id\":\"10908\"},{\"id\":\"10912\"},{\"id\":\"10943\"}],\"height\":550,\"left\":[{\"id\":\"10909\"}],\"renderers\":[{\"id\":\"10931\"},{\"id\":\"10949\"},{\"id\":\"10968\"}],\"title\":{\"id\":\"10895\"},\"toolbar\":{\"id\":\"10920\"},\"width\":580,\"x_range\":{\"id\":\"10897\"},\"x_scale\":{\"id\":\"10901\"},\"y_range\":{\"id\":\"10899\"},\"y_scale\":{\"id\":\"10903\"}},\"id\":\"10894\",\"subtype\":\"Figure\",\"type\":\"Plot\"},{\"attributes\":{},\"id\":\"10827\",\"type\":\"HelpTool\"},{\"attributes\":{},\"id\":\"10822\",\"type\":\"PanTool\"},{\"attributes\":{\"bottom_units\":\"screen\",\"coordinates\":null,\"fill_alpha\":0.5,\"fill_color\":\"lightgrey\",\"group\":null,\"left_units\":\"screen\",\"level\":\"overlay\",\"line_alpha\":1.0,\"line_color\":\"black\",\"line_dash\":[4,4],\"line_width\":2,\"right_units\":\"screen\",\"syncable\":false,\"top_units\":\"screen\"},\"id\":\"10919\",\"type\":\"BoxAnnotation\"},{\"attributes\":{\"overlay\":{\"id\":\"10828\"}},\"id\":\"10824\",\"type\":\"BoxZoomTool\"},{\"attributes\":{\"tools\":[{\"id\":\"10913\"},{\"id\":\"10914\"},{\"id\":\"10915\"},{\"id\":\"10916\"},{\"id\":\"10917\"},{\"id\":\"10918\"}]},\"id\":\"10920\",\"type\":\"Toolbar\"},{\"attributes\":{},\"id\":\"10826\",\"type\":\"ResetTool\"},{\"attributes\":{\"bottom_units\":\"screen\",\"coordinates\":null,\"fill_alpha\":0.5,\"fill_color\":\"lightgrey\",\"group\":null,\"left_units\":\"screen\",\"level\":\"overlay\",\"line_alpha\":1.0,\"line_color\":\"black\",\"line_dash\":[4,4],\"line_width\":2,\"right_units\":\"screen\",\"syncable\":false,\"top_units\":\"screen\"},\"id\":\"10828\",\"type\":\"BoxAnnotation\"},{\"attributes\":{},\"id\":\"10940\",\"type\":\"UnionRenderers\"},{\"attributes\":{\"source\":{\"id\":\"10836\"}},\"id\":\"10841\",\"type\":\"CDSView\"},{\"attributes\":{\"fill_color\":{\"value\":\"blue\"},\"hatch_color\":{\"value\":\"blue\"},\"line_color\":{\"value\":\"blue\"},\"size\":{\"value\":7},\"x\":{\"field\":\"x\"},\"y\":{\"field\":\"y\"}},\"id\":\"10837\",\"type\":\"Circle\"},{\"attributes\":{\"fill_alpha\":{\"value\":0.1},\"fill_color\":{\"value\":\"yellow\"},\"hatch_alpha\":{\"value\":0.1},\"hatch_color\":{\"value\":\"yellow\"},\"line_alpha\":{\"value\":0.1},\"line_color\":{\"value\":\"yellow\"},\"size\":{\"value\":7},\"x\":{\"field\":\"x\"},\"y\":{\"field\":\"y\"}},\"id\":\"10875\",\"type\":\"Circle\"}],\"root_ids\":[\"10985\"]},\"title\":\"Bokeh Application\",\"version\":\"2.4.3\"}};\n",
       "  const render_items = [{\"docid\":\"f13d48ab-dd1c-4dc4-a7bc-aac3b7f8d4fe\",\"root_ids\":[\"10985\"],\"roots\":{\"10985\":\"1975388e-fb50-473d-9858-ea681c13061c\"}}];\n",
       "  root.Bokeh.embed.embed_items_notebook(docs_json, render_items);\n",
       "  }\n",
       "  if (root.Bokeh !== undefined) {\n",
       "    embed_document(root);\n",
       "  } else {\n",
       "    let attempts = 0;\n",
       "    const timer = setInterval(function(root) {\n",
       "      if (root.Bokeh !== undefined) {\n",
       "        clearInterval(timer);\n",
       "        embed_document(root);\n",
       "      } else {\n",
       "        attempts++;\n",
       "        if (attempts > 100) {\n",
       "          clearInterval(timer);\n",
       "          console.log(\"Bokeh: ERROR: Unable to run BokehJS code because BokehJS library is missing\");\n",
       "        }\n",
       "      }\n",
       "    }, 10, root)\n",
       "  }\n",
       "})(window);"
      ],
      "application/vnd.bokehjs_exec.v0+json": ""
     },
     "metadata": {
      "application/vnd.bokehjs_exec.v0+json": {
       "id": "10985"
      }
     },
     "output_type": "display_data"
    }
   ],
   "source": [
    "from bokeh.plotting import figure,show\n",
    "# para mostrarlo en jupyter\n",
    "from bokeh.io import output_notebook\n",
    "from bokeh.layouts import row\n",
    "from bokeh.layouts import column\n",
    "\n",
    "# para que lo muestre en jupyter y no en otra pagina\n",
    "output_notebook() \n",
    "\n",
    "df_setosa=df[df[\"Species\"]==\"Iris-setosa\"]\n",
    "df_versicolor=df[df[\"Species\"]==\"Iris-versicolor\"]\n",
    "df_virginica=df[df[\"Species\"]==\"Iris-virginica\"]\n",
    "\n",
    "p=figure( title='Grafico Petalo con Bokeh',\n",
    "         x_axis_label='PetalLength',\n",
    "         y_axis_label='PetalWidth',\n",
    "         height=400,\n",
    "         width=400)\n",
    "p.circle(df_setosa['PetalLengthCm'], df_setosa['PetalWidthCm'], legend_label=\"Setosa\", color='blue', size=7)\n",
    "p.circle(df_versicolor['PetalLengthCm'], df_versicolor['PetalWidthCm'],legend_label=\"Versicolor.\", color='green',size=7)\n",
    "p.circle(df_virginica['PetalLengthCm'], df_virginica['PetalWidthCm'],legend_label=\"Virginica.\", color='yellow',size=7)\n",
    "p.legend.location='top_left'\n",
    "p.legend.title='Especies'\n",
    "p.legend.label_text_color='blue'\n",
    "p.title.align='center'\n",
    "#show(p)\n",
    "p2=figure( title='Grafico Sepalo con Bokeh',\n",
    "         x_axis_label='SepalLength',\n",
    "         y_axis_label='SepalWidth',\n",
    "         height=550,\n",
    "         width=580)\n",
    "p2.triangle(df_setosa['SepalLengthCm'], df_setosa['SepalWidthCm'], legend_label=\"Setosa\", color='blue', size=8)\n",
    "p2.circle(df_versicolor['SepalLengthCm'], df_versicolor['SepalWidthCm'],legend_label=\"Versicolor.\", color='green',size=8)\n",
    "p2.square(df_virginica['SepalLengthCm'], \n",
    "         df_virginica['SepalWidthCm'],\n",
    "         legend_label=\"Virginica.\",\n",
    "         color='yellow',\n",
    "         alpha=0.5,\n",
    "         size=8)\n",
    "p2.legend.location='top_right'\n",
    "p2.legend.title='Especies'\n",
    "p2.legend.label_text_color='blue'\n",
    "p2.title.align='center'\n",
    "\n",
    "#show(column(p,p2))\n",
    "show(row(p,p2))\n"
   ]
  },
  {
   "cell_type": "code",
   "execution_count": null,
   "id": "d94658ab",
   "metadata": {},
   "outputs": [],
   "source": [
    "from bokeh.plotting import figure, show\n",
    "\n",
    "colormap = {'Iris-setosa': 'red', 'Iris-versicolor': 'green', 'Iris-virginica': 'blue'}\n",
    "colors = [colormap[x] for x in df['Species']]\n",
    "p = figure(title=\"Iris\")\n",
    "p.xaxis.axis_label = 'Petal Length'\n",
    "p.yaxis.axis_label = 'Petal Width'\n",
    "\n",
    "p.scatter(df[\"PetalLengthCm\"], df[\"PetalWidthCm\"],\n",
    "          color=colors, fill_alpha=0.2, size=10)\n",
    "\n",
    "show(p)"
   ]
  },
  {
   "cell_type": "code",
   "execution_count": null,
   "id": "b36570b4",
   "metadata": {},
   "outputs": [],
   "source": []
  }
 ],
 "metadata": {
  "kernelspec": {
   "display_name": "Python 3 (ipykernel)",
   "language": "python",
   "name": "python3"
  },
  "language_info": {
   "codemirror_mode": {
    "name": "ipython",
    "version": 3
   },
   "file_extension": ".py",
   "mimetype": "text/x-python",
   "name": "python",
   "nbconvert_exporter": "python",
   "pygments_lexer": "ipython3",
   "version": "3.8.5"
  }
 },
 "nbformat": 4,
 "nbformat_minor": 5
}
